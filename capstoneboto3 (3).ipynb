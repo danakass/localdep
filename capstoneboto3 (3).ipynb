{
 "cells": [
  {
   "cell_type": "code",
   "execution_count": 2,
   "metadata": {},
   "outputs": [],
   "source": [
    "# Import boto3\n",
    "import boto3\n",
    "\n",
    "# Create a low-level EC2 client\n",
    "ec2_client = boto3.client('ec2', region_name='us-east-1')\n",
    "\n",
    "# Create a low-level ELB client\n",
    "elb_client = boto3.client('elbv2')\n",
    "\n",
    "# Create a low-level Auto Scaling client\n",
    "as_client = boto3.client('autoscaling')"
   ]
  },
  {
   "cell_type": "code",
   "execution_count": 4,
   "metadata": {},
   "outputs": [
    {
     "data": {
      "text/plain": [
       "{'ResponseMetadata': {'RequestId': 'f3ebfbd7-2b10-4bfb-b458-8bc3573ad0ed',\n",
       "  'HTTPStatusCode': 200,\n",
       "  'HTTPHeaders': {'x-amzn-requestid': 'f3ebfbd7-2b10-4bfb-b458-8bc3573ad0ed',\n",
       "   'cache-control': 'no-cache, no-store',\n",
       "   'strict-transport-security': 'max-age=31536000; includeSubDomains',\n",
       "   'content-type': 'text/xml;charset=UTF-8',\n",
       "   'content-length': '231',\n",
       "   'date': 'Wed, 16 Apr 2025 07:27:24 GMT',\n",
       "   'server': 'AmazonEC2'},\n",
       "  'RetryAttempts': 0}}"
      ]
     },
     "execution_count": 4,
     "metadata": {},
     "output_type": "execute_result"
    }
   ],
   "source": [
    "# Step 1: Create VPC\n",
    "\n",
    "vpc_response = ec2_client.create_vpc(CidrBlock='10.0.0.0/16')\n",
    "vpc_id = vpc_response['Vpc']['VpcId']\n",
    "\n",
    "# Tag the VPC\n",
    "ec2_client.create_tags(Resources=[vpc_id], Tags=[{'Key': 'Name', 'Value': 'demo_vpc'}])\n",
    "\n",
    "# Enable DNS support and hostnames (useful for EC2 instances)\n",
    "ec2_client.modify_vpc_attribute(VpcId=vpc_id, EnableDnsSupport={'Value': True})\n",
    "ec2_client.modify_vpc_attribute(VpcId=vpc_id, EnableDnsHostnames={'Value': True})\n",
    "\n",
    "# Create an internet gateway and attach to the VPC\n",
    "igw_response = ec2_client.create_internet_gateway()\n",
    "igw_id = igw_response['InternetGateway']['InternetGatewayId']\n",
    "ec2_client.attach_internet_gateway(InternetGatewayId=igw_id, VpcId=vpc_id)"
   ]
  },
  {
   "cell_type": "code",
   "execution_count": 5,
   "metadata": {},
   "outputs": [],
   "source": [
    "# Create Subnets\n",
    "\n",
    "# Subnet 01\n",
    "subnet_response = ec2_client.create_subnet(\n",
    "    VpcId=vpc_id,\n",
    "    CidrBlock='10.0.1.0/24',\n",
    "    AvailabilityZone='us-east-1a'\n",
    ")\n",
    "\n",
    "subnet_id_01 = subnet_response['Subnet']['SubnetId']\n",
    "\n",
    "# Subnet 02\n",
    "subnet_response = ec2_client.create_subnet(\n",
    "    VpcId=vpc_id,\n",
    "    CidrBlock='10.0.2.0/24',\n",
    "    AvailabilityZone='us-east-1b'\n",
    ")\n",
    "\n",
    "subnet_id_02 = subnet_response['Subnet']['SubnetId']"
   ]
  },
  {
   "cell_type": "code",
   "execution_count": 6,
   "metadata": {},
   "outputs": [
    {
     "data": {
      "text/plain": [
       "{'AssociationId': 'rtbassoc-023b3f69317e0093d',\n",
       " 'AssociationState': {'State': 'associated'},\n",
       " 'ResponseMetadata': {'RequestId': 'a0e17c08-b100-4c73-9009-e9ea188ff159',\n",
       "  'HTTPStatusCode': 200,\n",
       "  'HTTPHeaders': {'x-amzn-requestid': 'a0e17c08-b100-4c73-9009-e9ea188ff159',\n",
       "   'cache-control': 'no-cache, no-store',\n",
       "   'strict-transport-security': 'max-age=31536000; includeSubDomains',\n",
       "   'content-type': 'text/xml;charset=UTF-8',\n",
       "   'content-length': '325',\n",
       "   'date': 'Wed, 16 Apr 2025 07:31:26 GMT',\n",
       "   'server': 'AmazonEC2'},\n",
       "  'RetryAttempts': 0}}"
      ]
     },
     "execution_count": 6,
     "metadata": {},
     "output_type": "execute_result"
    }
   ],
   "source": [
    "# Route Table\n",
    "\n",
    "rt_response = ec2_client.create_route_table(VpcId=vpc_id)\n",
    "\n",
    "rtd_id = rt_response['RouteTable']['RouteTableId']\n",
    "\n",
    "ec2_client.create_route(\n",
    "    RouteTableId=rtd_id,\n",
    "    DestinationCidrBlock='0.0.0.0/0',\n",
    "    GatewayId=igw_id\n",
    "\n",
    ")\n",
    "\n",
    "ec2_client.associate_route_table(RouteTableId=rtd_id, SubnetId=subnet_id_01)\n",
    "\n",
    "ec2_client.associate_route_table(RouteTableId=rtd_id, SubnetId=subnet_id_02)"
   ]
  },
  {
   "cell_type": "code",
   "execution_count": 7,
   "metadata": {},
   "outputs": [
    {
     "data": {
      "text/plain": [
       "{'ResponseMetadata': {'RequestId': '25db6898-c4c1-456c-9082-664a0f874bb6',\n",
       "  'HTTPStatusCode': 200,\n",
       "  'HTTPHeaders': {'x-amzn-requestid': '25db6898-c4c1-456c-9082-664a0f874bb6',\n",
       "   'cache-control': 'no-cache, no-store',\n",
       "   'strict-transport-security': 'max-age=31536000; includeSubDomains',\n",
       "   'content-type': 'text/xml;charset=UTF-8',\n",
       "   'content-length': '231',\n",
       "   'date': 'Wed, 16 Apr 2025 07:31:54 GMT',\n",
       "   'server': 'AmazonEC2'},\n",
       "  'RetryAttempts': 0}}"
      ]
     },
     "execution_count": 7,
     "metadata": {},
     "output_type": "execute_result"
    }
   ],
   "source": [
    "# Modify the subnets to auto-assign public IPv4 address(optional)\n",
    "\n",
    "ec2_client.modify_subnet_attribute(\n",
    "    SubnetId=subnet_id_01,\n",
    "    MapPublicIpOnLaunch={'Value': True}\n",
    "\n",
    ")\n",
    "\n",
    "\n",
    "ec2_client.modify_subnet_attribute(\n",
    "    SubnetId=subnet_id_02,\n",
    "    MapPublicIpOnLaunch={'Value': True}\n",
    "\n",
    ")"
   ]
  },
  {
   "cell_type": "code",
   "execution_count": 11,
   "metadata": {},
   "outputs": [
    {
     "name": "stdout",
     "output_type": "stream",
     "text": [
      "subnet-0a40b589953926892\n",
      "subnet-01cb54ae4a28ab7e6\n"
     ]
    }
   ],
   "source": [
    "# Fetching the subnet IDs\n",
    "\n",
    "subnet_response = ec2_client.describe_subnets(\n",
    "    Filters = [\n",
    "        {\n",
    "        'Name': 'vpc-id',\n",
    "        'Values': [vpc_id]\n",
    "        }\n",
    "        \n",
    "\n",
    "    ]\n",
    "\n",
    "\n",
    ")\n",
    "\n",
    "for subnet in subnet_response['Subnets']:\n",
    "    print(subnet['SubnetId'])"
   ]
  },
  {
   "cell_type": "code",
   "execution_count": 16,
   "metadata": {},
   "outputs": [
    {
     "name": "stdout",
     "output_type": "stream",
     "text": [
      "Security Group Created: sg-0ba22b13d4b8906fb\n",
      "We have created a security group and added the inbound rules to it.\n"
     ]
    }
   ],
   "source": [
    "# Create a security group and add inbound rules to it\n",
    "\n",
    "group_name = 'mydemodcigroup'\n",
    "description = 'Allows SSH and HTTP access from anywhere'\n",
    "\n",
    "try:\n",
    "    # Step 1: Create the security group\n",
    "    response_sg = ec2_client.create_security_group(GroupName=group_name, \n",
    "                                     Description=description, \n",
    "                                     VpcId=vpc_id)\n",
    "    security_group_id = response_sg['GroupId']\n",
    "    print(f\"Security Group Created: {security_group_id }\")\n",
    "\n",
    "    # Step 2: Define the inbound rules (Allow SSH and HTTP)\n",
    "    ingress_rules = [\n",
    "\n",
    "    {\n",
    "        'IpProtocol': 'tcp',\n",
    "        'FromPort': 22,  # SSH\n",
    "        'ToPort': 22,\n",
    "        'IpRanges': [{'CidrIp': '0.0.0.0/0'}]\n",
    "\n",
    "    },\n",
    "\n",
    "    {\n",
    "        'IpProtocol': 'tcp',\n",
    "        'FromPort': 80,  # HTTP\n",
    "        'ToPort': 80,\n",
    "        'IpRanges': [{'CidrIp': '0.0.0.0/0'}]\n",
    "\n",
    "    }\n",
    "\n",
    "\n",
    "]\n",
    "    # Step 3: Adding the inbound rules to the security group\n",
    "    ec2_client.authorize_security_group_ingress(GroupId=security_group_id, \n",
    "                                                IpPermissions=ingress_rules)\n",
    "    \n",
    "except:\n",
    "    print(\"There seems to be some issue while creating a security group and/or adding rules to it.\")\n",
    "else:\n",
    "    print(\"We have created a security group and added the inbound rules to it.\")\n"
   ]
  },
  {
   "cell_type": "code",
   "execution_count": 17,
   "metadata": {},
   "outputs": [],
   "source": [
    "# Create a new key pair\n",
    "\n",
    "key_pair = ec2_client.create_key_pair(KeyName='capboto3-kp')"
   ]
  },
  {
   "cell_type": "code",
   "execution_count": 18,
   "metadata": {},
   "outputs": [],
   "source": [
    "# Create a launch template\n",
    "\n",
    "import base64\n",
    "\n",
    "user_data_script = '''#!/bin/bash\n",
    "yum update -y\n",
    "yum install httpd -y\n",
    "service httpd start\n",
    "chkconfig httpd on\n",
    "cd /var/www/html\n",
    "echo \"<html><h1>Congratulations! You've just deployed your first web server on an Amazon EC2 instance.</h1></html>\" > index.html'''\n",
    "\n",
    "\n",
    "# UserData must be Base64-encoded\n",
    "encoded = base64.b64encode(user_data_script.encode('utf-8')).decode('utf-8')\n",
    "\n",
    "response_lt = ec2_client.create_launch_template(\n",
    "    LaunchTemplateName='capstone-lt',\n",
    "    LaunchTemplateData={\n",
    "        'ImageId': 'ami-00a929b66ed6e0de6',  # Amazon Linux 2023 AMI\n",
    "        'InstanceType': 't2.micro',\n",
    "        'KeyName': 'capboto3-kp',\n",
    "        'SecurityGroupIds': ['sg-0ba22b13d4b8906fb'],\n",
    "        'UserData': encoded\n",
    "\n",
    "    }\n",
    "\n",
    ")\n",
    "\n",
    "ltd_id = response_lt['LaunchTemplate']['LaunchTemplateId']"
   ]
  },
  {
   "cell_type": "code",
   "execution_count": 28,
   "metadata": {},
   "outputs": [
    {
     "name": "stdout",
     "output_type": "stream",
     "text": [
      "lt-0e947ff894305f52e\n"
     ]
    }
   ],
   "source": [
    "print(ltd_id)"
   ]
  },
  {
   "cell_type": "markdown",
   "metadata": {},
   "source": [
    ">\n",
    "> _________________________________________\n",
    "> ### Registration of targets\n",
    ">\n",
    "> -  No need to register the targets manually as the instances will be launched by Auto Scaling\n",
    ">\n",
    "> - Upon launching, the instances will get registered to the LB automatically.\n",
    ">\n",
    "> - This is because the LB target group and AS group overlap.\n",
    ">\n",
    "> _________________________________________\n",
    ">\n",
    ">"
   ]
  },
  {
   "cell_type": "code",
   "execution_count": 24,
   "metadata": {},
   "outputs": [
    {
     "name": "stdout",
     "output_type": "stream",
     "text": [
      "Using boto3, we've launched an ALB successfully.\n"
     ]
    }
   ],
   "source": [
    "# Creating a load balancer target group\n",
    "response_tg = elb_client.create_target_group(\n",
    "    Name='capstonetargetgroup',\n",
    "    TargetType='instance',\n",
    "    Protocol='HTTP',\n",
    "    Port=80,\n",
    "    VpcId=vpc_id,\n",
    "    HealthCheckProtocol='HTTP',\n",
    "    HealthCheckPort='80',\n",
    "    HealthCheckPath='/index.html'\n",
    "\n",
    ")\n",
    "\n",
    "# Extracting the TG ARN and setting a variable for it\n",
    "for target in response_tg['TargetGroups']:\n",
    "    target_arn = target['TargetGroupArn']\n",
    "\n",
    "\n",
    "# Create a load balancer\n",
    "elb_response = elb_client.create_load_balancer(\n",
    "    Name='capstonealb',\n",
    "    Scheme='internet-facing',\n",
    "    IpAddressType='ipv4',\n",
    "    Subnets=['subnet-0a40b589953926892', 'subnet-01cb54ae4a28ab7e6'],\n",
    "    SecurityGroups=['sg-0ba22b13d4b8906fb'],\n",
    "    Type='application'\n",
    "    \n",
    ")\n",
    "\n",
    "# Extracting the LB's ARN and setting a variable for it\n",
    "for lb in elb_response['LoadBalancers']:\n",
    "    lb_arn = lb['LoadBalancerArn']\n",
    "\n",
    "\n",
    "# Create a listener\n",
    "elb_client.create_listener(\n",
    "    LoadBalancerArn=lb_arn,\n",
    "    Protocol='HTTP',\n",
    "    Port=80,\n",
    "    DefaultActions=[\n",
    "        {\n",
    "            'Type': 'forward',\n",
    "            'TargetGroupArn': target_arn\n",
    "\n",
    "\n",
    "\n",
    "        }\n",
    "    ]\n",
    "\n",
    "\n",
    ")\n",
    "\n",
    "print(\"Using boto3, we've launched an ALB successfully.\")\n"
   ]
  },
  {
   "cell_type": "code",
   "execution_count": 25,
   "metadata": {},
   "outputs": [],
   "source": [
    "# Creating an Auto Scaling Group\n",
    "\n",
    "response_asg = as_client.create_auto_scaling_group(\n",
    "    AutoScalingGroupName='capstoneasg',\n",
    "    LaunchTemplate={\n",
    "        'LaunchTemplateId': ltd_id ,\n",
    "        'Version': '$Latest'\n",
    "    },\n",
    "    VPCZoneIdentifier='subnet-0a40b589953926892, subnet-01cb54ae4a28ab7e6', # Comma-separated subnet IDs,\n",
    "    TargetGroupARNs=[target_arn], # Specify the LB's target group\n",
    "    HealthCheckType='EC2',\n",
    "    HealthCheckGracePeriod=300,\n",
    "    MinSize=2,\n",
    "    MaxSize=3,\n",
    "    DesiredCapacity=2\n",
    ")\n",
    "\n",
    "\n",
    "# Create a target tracking policy\n",
    "response = as_client.put_scaling_policy(\n",
    "    AutoScalingGroupName='capstoneasg',\n",
    "    PolicyName='cpu-tracking-policy',   # custom name assigned to the policy\n",
    "    PolicyType='TargetTrackingScaling',\n",
    "    TargetTrackingConfiguration={\n",
    "        'PredefinedMetricSpecification': {\n",
    "            'PredefinedMetricType': 'ASGAverageCPUUtilization'\n",
    "        },\n",
    "        'TargetValue': 50.0, # Target CPU %\n",
    "        'DisableScaleIn': False\n",
    "\n",
    "\n",
    "    }\n",
    "\n",
    ")\n",
    "\n",
    "\n"
   ]
  },
  {
   "cell_type": "code",
   "execution_count": null,
   "metadata": {},
   "outputs": [],
   "source": [
    "# Clean Up\n",
    "\n",
    "# Delete the Auto Scaling Group (Force Delete)\n",
    "# Force Delete = True, if the instances are running\n",
    "as_client.delete_auto_scaling_group(AutoScalingGroupName='capstoneasg',\n",
    "                                              ForceDelete=True)\n",
    "\n",
    "# Delete the load balancer\n",
    "elb_client.delete_load_balancer(LoadBalancerArn=lb_arn)\n",
    "\n",
    "# Deleting the launch template\n",
    "ec2_client.delete_launch_template(LaunchTemplateId=ltd_id)\n",
    "\n",
    "# Delete the security group\n",
    "ec2_client.delete_security_group(GroupId='sg-0ba22b13d4b8906fb')\n",
    "\n",
    "# Delete the subnets\n",
    "ec2_client.delete_subnet(SubnetId=subnet_id_01)\n",
    "ec2_client.delete_subnet(SubnetId=subnet_id_02)\n",
    "\n",
    "# Delete the route \n",
    "ec2_client.delete_route(\n",
    "    RouteTableId=rtd_id,\n",
    "    DestinationCidrBlock='0.0.0.0/0'\n",
    ")\n",
    "\n",
    "# Delete the route table\n",
    "ec2_client.delete_route_table(RouteTableId=rtd_id)\n",
    "\n",
    "# Detach the internet gateway from the VPC\n",
    "ec2_client.detach_internet_gateway(InternetGatewayId=igw_id, VpcId=vpc_id)\n",
    "\n",
    "# Delete the internet gateway\n",
    "ec2_client.delete_internet_gateway(InternetGatewayId=igw_id)\n",
    "\n",
    "# Finally, delete the VPC\n",
    "ec2_client.delete_vpc(VpcId=vpc_id)\n",
    "\n"
   ]
  }
 ],
 "metadata": {
  "kernelspec": {
   "display_name": "Python 3",
   "language": "python",
   "name": "python3"
  },
  "language_info": {
   "codemirror_mode": {
    "name": "ipython",
    "version": 3
   },
   "file_extension": ".py",
   "mimetype": "text/x-python",
   "name": "python",
   "nbconvert_exporter": "python",
   "pygments_lexer": "ipython3",
   "version": "3.12.2"
  }
 },
 "nbformat": 4,
 "nbformat_minor": 2
}
